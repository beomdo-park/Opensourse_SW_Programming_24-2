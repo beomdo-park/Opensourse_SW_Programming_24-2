{
  "nbformat": 4,
  "nbformat_minor": 0,
  "metadata": {
    "colab": {
      "provenance": []
    },
    "kernelspec": {
      "name": "python3",
      "display_name": "Python 3"
    },
    "language_info": {
      "name": "python"
    }
  },
  "cells": [
    {
      "cell_type": "code",
      "execution_count": 1,
      "metadata": {
        "id": "K5xuNzaXaZL6"
      },
      "outputs": [],
      "source": [
        "#예제 1.\n",
        "def deco(func):\n",
        "    def inner():\n",
        "        print('running inner()')\n",
        "    return inner"
      ]
    },
    {
      "cell_type": "code",
      "source": [
        "@deco\n",
        "def target():\n",
        "    print('running target()')\n",
        "target()"
      ],
      "metadata": {
        "colab": {
          "base_uri": "https://localhost:8080/"
        },
        "id": "a3G6FDOsajw8",
        "outputId": "cebba180-9491-4c0f-8997-4a7af83bebc8"
      },
      "execution_count": 3,
      "outputs": [
        {
          "output_type": "stream",
          "name": "stdout",
          "text": [
            "running inner()\n"
          ]
        }
      ]
    },
    {
      "cell_type": "code",
      "source": [
        "target"
      ],
      "metadata": {
        "colab": {
          "base_uri": "https://localhost:8080/",
          "height": 105
        },
        "id": "DQkuH5knakQK",
        "outputId": "a4e9e97f-b0f6-45c9-ad58-fc4ed4730444"
      },
      "execution_count": 4,
      "outputs": [
        {
          "output_type": "execute_result",
          "data": {
            "text/plain": [
              "<function __main__.deco.<locals>.inner()>"
            ],
            "text/html": [
              "<div style=\"max-width:800px; border: 1px solid var(--colab-border-color);\"><style>\n",
              "      pre.function-repr-contents {\n",
              "        overflow-x: auto;\n",
              "        padding: 8px 12px;\n",
              "        max-height: 500px;\n",
              "      }\n",
              "\n",
              "      pre.function-repr-contents.function-repr-contents-collapsed {\n",
              "        cursor: pointer;\n",
              "        max-height: 100px;\n",
              "      }\n",
              "    </style>\n",
              "    <pre style=\"white-space: initial; background:\n",
              "         var(--colab-secondary-surface-color); padding: 8px 12px;\n",
              "         border-bottom: 1px solid var(--colab-border-color);\"><b>deco.&lt;locals&gt;.inner</b><br/>def inner()</pre><pre class=\"function-repr-contents function-repr-contents-collapsed\" style=\"\"><a class=\"filepath\" style=\"display:none\" href=\"#\">/content/&lt;ipython-input-1-9ac5d416e58f&gt;</a>&lt;no docstring&gt;</pre></div>"
            ]
          },
          "metadata": {},
          "execution_count": 4
        }
      ]
    },
    {
      "cell_type": "code",
      "source": [
        "#예제 2.\n",
        "registry = []\n",
        "def register(func):\n",
        "    print('running register(%s)' % func)\n",
        "    registry.append(func)\n",
        "    return func\n",
        "\n",
        "@register\n",
        "def f1():\n",
        "    print('running f1()')\n",
        "\n",
        "@register\n",
        "def f2():\n",
        "    print('running f2()')\n",
        "\n",
        "def f3():\n",
        "    print('running f3()')\n",
        "\n",
        "def main():\n",
        "    print('running main()')\n",
        "    print('registry ->', registry)\n",
        "    f1()\n",
        "    f2()\n",
        "    f3()\n",
        "if __name__ == '__main__':\n",
        "    main()\n"
      ],
      "metadata": {
        "colab": {
          "base_uri": "https://localhost:8080/"
        },
        "id": "ZEOhiwPbapJe",
        "outputId": "ff5e1adf-96b7-470f-8c5b-d566e37de823"
      },
      "execution_count": 5,
      "outputs": [
        {
          "output_type": "stream",
          "name": "stdout",
          "text": [
            "running register(<function f1 at 0x78abd242d900>)\n",
            "running register(<function f2 at 0x78abefec5630>)\n",
            "running main()\n",
            "registry -> [<function f1 at 0x78abd242d900>, <function f2 at 0x78abefec5630>]\n",
            "running f1()\n",
            "running f2()\n",
            "running f3()\n"
          ]
        }
      ]
    },
    {
      "cell_type": "code",
      "source": [
        "#예제 3.\n",
        "promos = []\n",
        "def promotion(promo_func):\n",
        "    promos.append(promo_func)\n",
        "    return promo_func\n",
        "\n",
        "@promotion\n",
        "def fidelity_promo(order):\n",
        "    return order.total() * 0.05 if order.customer.fiidelity >=1000 else 0\n",
        "\n",
        "@promotion\n",
        "def bulk_item_promo(order):\n",
        "    discount = 0\n",
        "    for item in order.cart:\n",
        "        if item.quantity >= 20:\n",
        "            discount += item.total() * 0.1\n",
        "    return discount\n",
        "\n",
        "@promotion\n",
        "def large_order_promo(order):\n",
        "    distinct_items = {item.product for item in order.cart}\n",
        "    if len(distinct_items) >= 10:\n",
        "        return order.total() * 0.07\n",
        "    return 0\n",
        "\n",
        "def best_promo(order):\n",
        "    return max(promo(order) for promo in promos)"
      ],
      "metadata": {
        "id": "Jg5VrcyWavNm"
      },
      "execution_count": 6,
      "outputs": []
    },
    {
      "cell_type": "code",
      "source": [
        "#예제 4.\n",
        "def f1(a):\n",
        "    print(a)\n",
        "    print(b)\n",
        "\n",
        "f1(3)"
      ],
      "metadata": {
        "colab": {
          "base_uri": "https://localhost:8080/",
          "height": 335
        },
        "id": "u4Wj5tQXbDHj",
        "outputId": "466fce07-1a81-4cac-bc01-9985514cf1ed"
      },
      "execution_count": 7,
      "outputs": [
        {
          "output_type": "stream",
          "name": "stdout",
          "text": [
            "3\n"
          ]
        },
        {
          "output_type": "error",
          "ename": "NameError",
          "evalue": "name 'b' is not defined",
          "traceback": [
            "\u001b[0;31m---------------------------------------------------------------------------\u001b[0m",
            "\u001b[0;31mNameError\u001b[0m                                 Traceback (most recent call last)",
            "\u001b[0;32m<ipython-input-7-d0b36c4f1cef>\u001b[0m in \u001b[0;36m<cell line: 6>\u001b[0;34m()\u001b[0m\n\u001b[1;32m      4\u001b[0m     \u001b[0mprint\u001b[0m\u001b[0;34m(\u001b[0m\u001b[0mb\u001b[0m\u001b[0;34m)\u001b[0m\u001b[0;34m\u001b[0m\u001b[0;34m\u001b[0m\u001b[0m\n\u001b[1;32m      5\u001b[0m \u001b[0;34m\u001b[0m\u001b[0m\n\u001b[0;32m----> 6\u001b[0;31m \u001b[0mf1\u001b[0m\u001b[0;34m(\u001b[0m\u001b[0;36m3\u001b[0m\u001b[0;34m)\u001b[0m\u001b[0;34m\u001b[0m\u001b[0;34m\u001b[0m\u001b[0m\n\u001b[0m",
            "\u001b[0;32m<ipython-input-7-d0b36c4f1cef>\u001b[0m in \u001b[0;36mf1\u001b[0;34m(a)\u001b[0m\n\u001b[1;32m      2\u001b[0m \u001b[0;32mdef\u001b[0m \u001b[0mf1\u001b[0m\u001b[0;34m(\u001b[0m\u001b[0ma\u001b[0m\u001b[0;34m)\u001b[0m\u001b[0;34m:\u001b[0m\u001b[0;34m\u001b[0m\u001b[0;34m\u001b[0m\u001b[0m\n\u001b[1;32m      3\u001b[0m     \u001b[0mprint\u001b[0m\u001b[0;34m(\u001b[0m\u001b[0ma\u001b[0m\u001b[0;34m)\u001b[0m\u001b[0;34m\u001b[0m\u001b[0;34m\u001b[0m\u001b[0m\n\u001b[0;32m----> 4\u001b[0;31m     \u001b[0mprint\u001b[0m\u001b[0;34m(\u001b[0m\u001b[0mb\u001b[0m\u001b[0;34m)\u001b[0m\u001b[0;34m\u001b[0m\u001b[0;34m\u001b[0m\u001b[0m\n\u001b[0m\u001b[1;32m      5\u001b[0m \u001b[0;34m\u001b[0m\u001b[0m\n\u001b[1;32m      6\u001b[0m \u001b[0mf1\u001b[0m\u001b[0;34m(\u001b[0m\u001b[0;36m3\u001b[0m\u001b[0;34m)\u001b[0m\u001b[0;34m\u001b[0m\u001b[0;34m\u001b[0m\u001b[0m\n",
            "\u001b[0;31mNameError\u001b[0m: name 'b' is not defined"
          ]
        }
      ]
    },
    {
      "cell_type": "code",
      "source": [
        "b=6\n",
        "f1(3)"
      ],
      "metadata": {
        "colab": {
          "base_uri": "https://localhost:8080/"
        },
        "id": "3xodImnAbIzQ",
        "outputId": "ea745a74-3844-4134-d2b0-451ef35fbab4"
      },
      "execution_count": 8,
      "outputs": [
        {
          "output_type": "stream",
          "name": "stdout",
          "text": [
            "3\n",
            "6\n"
          ]
        }
      ]
    },
    {
      "cell_type": "code",
      "source": [
        "#예제 5.\n",
        "b=6\n",
        "def f2(a):\n",
        "    print(a)\n",
        "    print(b)\n",
        "    b=9\n",
        "f2(3)"
      ],
      "metadata": {
        "colab": {
          "base_uri": "https://localhost:8080/",
          "height": 335
        },
        "id": "nIt3FHiwbLKR",
        "outputId": "86515b09-2f0a-469e-d1fa-db2edfff76c2"
      },
      "execution_count": 9,
      "outputs": [
        {
          "output_type": "stream",
          "name": "stdout",
          "text": [
            "3\n"
          ]
        },
        {
          "output_type": "error",
          "ename": "UnboundLocalError",
          "evalue": "local variable 'b' referenced before assignment",
          "traceback": [
            "\u001b[0;31m---------------------------------------------------------------------------\u001b[0m",
            "\u001b[0;31mUnboundLocalError\u001b[0m                         Traceback (most recent call last)",
            "\u001b[0;32m<ipython-input-9-6cded8ad8bc6>\u001b[0m in \u001b[0;36m<cell line: 6>\u001b[0;34m()\u001b[0m\n\u001b[1;32m      4\u001b[0m     \u001b[0mprint\u001b[0m\u001b[0;34m(\u001b[0m\u001b[0mb\u001b[0m\u001b[0;34m)\u001b[0m\u001b[0;34m\u001b[0m\u001b[0;34m\u001b[0m\u001b[0m\n\u001b[1;32m      5\u001b[0m     \u001b[0mb\u001b[0m\u001b[0;34m=\u001b[0m\u001b[0;36m9\u001b[0m\u001b[0;34m\u001b[0m\u001b[0;34m\u001b[0m\u001b[0m\n\u001b[0;32m----> 6\u001b[0;31m \u001b[0mf2\u001b[0m\u001b[0;34m(\u001b[0m\u001b[0;36m3\u001b[0m\u001b[0;34m)\u001b[0m\u001b[0;34m\u001b[0m\u001b[0;34m\u001b[0m\u001b[0m\n\u001b[0m",
            "\u001b[0;32m<ipython-input-9-6cded8ad8bc6>\u001b[0m in \u001b[0;36mf2\u001b[0;34m(a)\u001b[0m\n\u001b[1;32m      2\u001b[0m \u001b[0;32mdef\u001b[0m \u001b[0mf2\u001b[0m\u001b[0;34m(\u001b[0m\u001b[0ma\u001b[0m\u001b[0;34m)\u001b[0m\u001b[0;34m:\u001b[0m\u001b[0;34m\u001b[0m\u001b[0;34m\u001b[0m\u001b[0m\n\u001b[1;32m      3\u001b[0m     \u001b[0mprint\u001b[0m\u001b[0;34m(\u001b[0m\u001b[0ma\u001b[0m\u001b[0;34m)\u001b[0m\u001b[0;34m\u001b[0m\u001b[0;34m\u001b[0m\u001b[0m\n\u001b[0;32m----> 4\u001b[0;31m     \u001b[0mprint\u001b[0m\u001b[0;34m(\u001b[0m\u001b[0mb\u001b[0m\u001b[0;34m)\u001b[0m\u001b[0;34m\u001b[0m\u001b[0;34m\u001b[0m\u001b[0m\n\u001b[0m\u001b[1;32m      5\u001b[0m     \u001b[0mb\u001b[0m\u001b[0;34m=\u001b[0m\u001b[0;36m9\u001b[0m\u001b[0;34m\u001b[0m\u001b[0;34m\u001b[0m\u001b[0m\n\u001b[1;32m      6\u001b[0m \u001b[0mf2\u001b[0m\u001b[0;34m(\u001b[0m\u001b[0;36m3\u001b[0m\u001b[0;34m)\u001b[0m\u001b[0;34m\u001b[0m\u001b[0;34m\u001b[0m\u001b[0m\n",
            "\u001b[0;31mUnboundLocalError\u001b[0m: local variable 'b' referenced before assignment"
          ]
        }
      ]
    },
    {
      "cell_type": "code",
      "source": [
        "#예제 6.\n",
        "b=6\n",
        "def f3(a):\n",
        "    global b\n",
        "    print(a)\n",
        "    print(b)\n",
        "    b=9\n",
        "f3(3)"
      ],
      "metadata": {
        "colab": {
          "base_uri": "https://localhost:8080/"
        },
        "id": "rq_ABxnmbRTQ",
        "outputId": "5aff1711-fbef-4310-ba22-10e8c95cc06e"
      },
      "execution_count": 10,
      "outputs": [
        {
          "output_type": "stream",
          "name": "stdout",
          "text": [
            "3\n",
            "6\n"
          ]
        }
      ]
    },
    {
      "cell_type": "code",
      "source": [
        "b"
      ],
      "metadata": {
        "colab": {
          "base_uri": "https://localhost:8080/"
        },
        "id": "-QMzKUNQbapA",
        "outputId": "d86b6a55-3d91-40fe-d5c1-2e08bfff945a"
      },
      "execution_count": 11,
      "outputs": [
        {
          "output_type": "execute_result",
          "data": {
            "text/plain": [
              "9"
            ]
          },
          "metadata": {},
          "execution_count": 11
        }
      ]
    },
    {
      "cell_type": "code",
      "source": [
        "f3(3)"
      ],
      "metadata": {
        "colab": {
          "base_uri": "https://localhost:8080/"
        },
        "id": "dP2Q2mWRbbPA",
        "outputId": "dd72d85b-6981-4b6f-aa0a-b185aac37601"
      },
      "execution_count": 12,
      "outputs": [
        {
          "output_type": "stream",
          "name": "stdout",
          "text": [
            "3\n",
            "9\n"
          ]
        }
      ]
    },
    {
      "cell_type": "code",
      "source": [
        "b=30\n",
        "f3(3)"
      ],
      "metadata": {
        "colab": {
          "base_uri": "https://localhost:8080/"
        },
        "id": "q9bBqWndbb-o",
        "outputId": "762ad9b2-9b42-4ea7-f73d-188d1998f9bb"
      },
      "execution_count": 13,
      "outputs": [
        {
          "output_type": "stream",
          "name": "stdout",
          "text": [
            "3\n",
            "30\n"
          ]
        }
      ]
    },
    {
      "cell_type": "code",
      "source": [
        "#예제 7.\n",
        "class Averager():\n",
        "    def __init__(self):\n",
        "        self.series = []\n",
        "    def __call__(self, new_value):\n",
        "        self.series.append(new_value)\n",
        "        total = sum(self.series)\n",
        "        return total/len(self.series)"
      ],
      "metadata": {
        "id": "iX225aIDbdlw"
      },
      "execution_count": 14,
      "outputs": []
    },
    {
      "cell_type": "code",
      "source": [
        "avg = Averager()\n",
        "avg(10)"
      ],
      "metadata": {
        "colab": {
          "base_uri": "https://localhost:8080/"
        },
        "id": "qrMmvvCPbmRa",
        "outputId": "1ea57331-458c-4511-91b8-66ebc2372c2d"
      },
      "execution_count": 17,
      "outputs": [
        {
          "output_type": "execute_result",
          "data": {
            "text/plain": [
              "10.0"
            ]
          },
          "metadata": {},
          "execution_count": 17
        }
      ]
    },
    {
      "cell_type": "code",
      "source": [
        "avg(11)"
      ],
      "metadata": {
        "colab": {
          "base_uri": "https://localhost:8080/"
        },
        "id": "iWALgq9Wbn-Q",
        "outputId": "c7f2423c-e8f7-482c-b7a3-c4fb0cbcbf62"
      },
      "execution_count": 18,
      "outputs": [
        {
          "output_type": "execute_result",
          "data": {
            "text/plain": [
              "10.5"
            ]
          },
          "metadata": {},
          "execution_count": 18
        }
      ]
    },
    {
      "cell_type": "code",
      "source": [
        "avg(12)"
      ],
      "metadata": {
        "colab": {
          "base_uri": "https://localhost:8080/"
        },
        "id": "ldP5KC7vbqgn",
        "outputId": "89d6d6bd-dad3-4568-be1d-fb80617a21cc"
      },
      "execution_count": 20,
      "outputs": [
        {
          "output_type": "execute_result",
          "data": {
            "text/plain": [
              "11.0"
            ]
          },
          "metadata": {},
          "execution_count": 20
        }
      ]
    },
    {
      "cell_type": "code",
      "source": [
        "#예제 8\n",
        "def make_averager():\n",
        "    series = []\n",
        "\n",
        "    def averager(new_value):\n",
        "        series.append(new_value)\n",
        "        total = sum(series)\n",
        "        return total/len(series)\n",
        "    return averager"
      ],
      "metadata": {
        "id": "2jNM_JNHbrPw"
      },
      "execution_count": 21,
      "outputs": []
    },
    {
      "cell_type": "code",
      "source": [
        "avg = make_averager()\n",
        "avg(10)"
      ],
      "metadata": {
        "colab": {
          "base_uri": "https://localhost:8080/"
        },
        "id": "Mlm0l4sFbzu1",
        "outputId": "fad3bf37-6a4c-4714-fc91-8ebb49c2682d"
      },
      "execution_count": 22,
      "outputs": [
        {
          "output_type": "execute_result",
          "data": {
            "text/plain": [
              "10.0"
            ]
          },
          "metadata": {},
          "execution_count": 22
        }
      ]
    },
    {
      "cell_type": "code",
      "source": [
        "avg(11)"
      ],
      "metadata": {
        "colab": {
          "base_uri": "https://localhost:8080/"
        },
        "id": "dgRDN4vUb0vc",
        "outputId": "e9555cf4-1e9f-4ac8-9a69-ca95a4d39e61"
      },
      "execution_count": 23,
      "outputs": [
        {
          "output_type": "execute_result",
          "data": {
            "text/plain": [
              "10.5"
            ]
          },
          "metadata": {},
          "execution_count": 23
        }
      ]
    },
    {
      "cell_type": "code",
      "source": [
        "avg(12)"
      ],
      "metadata": {
        "colab": {
          "base_uri": "https://localhost:8080/"
        },
        "id": "6EhK7KKsb1a0",
        "outputId": "71594ca4-951c-457a-dfa2-db74424f5a91"
      },
      "execution_count": 24,
      "outputs": [
        {
          "output_type": "execute_result",
          "data": {
            "text/plain": [
              "11.0"
            ]
          },
          "metadata": {},
          "execution_count": 24
        }
      ]
    },
    {
      "cell_type": "code",
      "source": [
        "#예제 9.\n",
        "avg.__code__.co_varnames"
      ],
      "metadata": {
        "colab": {
          "base_uri": "https://localhost:8080/"
        },
        "id": "jl2Ml1fab2Hc",
        "outputId": "626dc3be-88b8-4012-8515-cbfbadbf78ff"
      },
      "execution_count": 25,
      "outputs": [
        {
          "output_type": "execute_result",
          "data": {
            "text/plain": [
              "('new_value', 'total')"
            ]
          },
          "metadata": {},
          "execution_count": 25
        }
      ]
    },
    {
      "cell_type": "code",
      "source": [
        "avg.__code__.co_freevars"
      ],
      "metadata": {
        "colab": {
          "base_uri": "https://localhost:8080/"
        },
        "id": "JiLkvHTdb8ms",
        "outputId": "111fbc93-306c-419e-eac6-8dafb1bfcd59"
      },
      "execution_count": 26,
      "outputs": [
        {
          "output_type": "execute_result",
          "data": {
            "text/plain": [
              "('series',)"
            ]
          },
          "metadata": {},
          "execution_count": 26
        }
      ]
    },
    {
      "cell_type": "code",
      "source": [
        "avg.__closure__"
      ],
      "metadata": {
        "colab": {
          "base_uri": "https://localhost:8080/"
        },
        "id": "XsTc25vNb-rU",
        "outputId": "e244cc68-bc8b-4654-a951-bf1fa333e743"
      },
      "execution_count": 27,
      "outputs": [
        {
          "output_type": "execute_result",
          "data": {
            "text/plain": [
              "(<cell at 0x78abb5db71c0: list object at 0x78abb5a09d40>,)"
            ]
          },
          "metadata": {},
          "execution_count": 27
        }
      ]
    },
    {
      "cell_type": "code",
      "source": [
        "avg.__closure__[0].cell_contents"
      ],
      "metadata": {
        "colab": {
          "base_uri": "https://localhost:8080/"
        },
        "id": "GHW2ndhhb_90",
        "outputId": "b8f6ffb9-eb91-48e4-ac69-abba6218b4a5"
      },
      "execution_count": 28,
      "outputs": [
        {
          "output_type": "execute_result",
          "data": {
            "text/plain": [
              "[10, 11, 12]"
            ]
          },
          "metadata": {},
          "execution_count": 28
        }
      ]
    },
    {
      "cell_type": "code",
      "source": [
        "#예제 10.\n",
        "def make_averager():\n",
        "    count = 0\n",
        "    total = 0\n",
        "    def averager(new_value):\n",
        "        count += 1\n",
        "        total += new_value\n",
        "        return total/count\n",
        "    return averager"
      ],
      "metadata": {
        "id": "AJtys5JncBCg"
      },
      "execution_count": 29,
      "outputs": []
    },
    {
      "cell_type": "code",
      "source": [
        "avg = make_averager()\n",
        "avg(10)"
      ],
      "metadata": {
        "colab": {
          "base_uri": "https://localhost:8080/",
          "height": 298
        },
        "id": "Afpsy_-VcDro",
        "outputId": "21071b4b-0b54-4181-f710-4320e556e279"
      },
      "execution_count": 30,
      "outputs": [
        {
          "output_type": "error",
          "ename": "UnboundLocalError",
          "evalue": "local variable 'count' referenced before assignment",
          "traceback": [
            "\u001b[0;31m---------------------------------------------------------------------------\u001b[0m",
            "\u001b[0;31mUnboundLocalError\u001b[0m                         Traceback (most recent call last)",
            "\u001b[0;32m<ipython-input-30-b5a6bb6dc4cd>\u001b[0m in \u001b[0;36m<cell line: 2>\u001b[0;34m()\u001b[0m\n\u001b[1;32m      1\u001b[0m \u001b[0mavg\u001b[0m \u001b[0;34m=\u001b[0m \u001b[0mmake_averager\u001b[0m\u001b[0;34m(\u001b[0m\u001b[0;34m)\u001b[0m\u001b[0;34m\u001b[0m\u001b[0;34m\u001b[0m\u001b[0m\n\u001b[0;32m----> 2\u001b[0;31m \u001b[0mavg\u001b[0m\u001b[0;34m(\u001b[0m\u001b[0;36m10\u001b[0m\u001b[0;34m)\u001b[0m\u001b[0;34m\u001b[0m\u001b[0;34m\u001b[0m\u001b[0m\n\u001b[0m",
            "\u001b[0;32m<ipython-input-29-972ae3bb710f>\u001b[0m in \u001b[0;36maverager\u001b[0;34m(new_value)\u001b[0m\n\u001b[1;32m      4\u001b[0m     \u001b[0mtotal\u001b[0m \u001b[0;34m=\u001b[0m \u001b[0;36m0\u001b[0m\u001b[0;34m\u001b[0m\u001b[0;34m\u001b[0m\u001b[0m\n\u001b[1;32m      5\u001b[0m     \u001b[0;32mdef\u001b[0m \u001b[0maverager\u001b[0m\u001b[0;34m(\u001b[0m\u001b[0mnew_value\u001b[0m\u001b[0;34m)\u001b[0m\u001b[0;34m:\u001b[0m\u001b[0;34m\u001b[0m\u001b[0;34m\u001b[0m\u001b[0m\n\u001b[0;32m----> 6\u001b[0;31m         \u001b[0mcount\u001b[0m \u001b[0;34m+=\u001b[0m \u001b[0;36m1\u001b[0m\u001b[0;34m\u001b[0m\u001b[0;34m\u001b[0m\u001b[0m\n\u001b[0m\u001b[1;32m      7\u001b[0m         \u001b[0mtotal\u001b[0m \u001b[0;34m+=\u001b[0m \u001b[0mnew_value\u001b[0m\u001b[0;34m\u001b[0m\u001b[0;34m\u001b[0m\u001b[0m\n\u001b[1;32m      8\u001b[0m         \u001b[0;32mreturn\u001b[0m \u001b[0mtotal\u001b[0m\u001b[0;34m/\u001b[0m\u001b[0mcount\u001b[0m\u001b[0;34m\u001b[0m\u001b[0;34m\u001b[0m\u001b[0m\n",
            "\u001b[0;31mUnboundLocalError\u001b[0m: local variable 'count' referenced before assignment"
          ]
        }
      ]
    },
    {
      "cell_type": "code",
      "source": [
        "#예제 11.\n",
        "def make_averager():\n",
        "    count =0\n",
        "    total =0\n",
        "\n",
        "    def averager(new_value):\n",
        "        nonlocal count, total\n",
        "        count += 1\n",
        "        total += new_value\n",
        "        return total/count\n",
        "    return averager"
      ],
      "metadata": {
        "id": "rto3RSgrcFS4"
      },
      "execution_count": 31,
      "outputs": []
    },
    {
      "cell_type": "code",
      "source": [
        "avg = make_averager()\n",
        "avg(10)"
      ],
      "metadata": {
        "colab": {
          "base_uri": "https://localhost:8080/"
        },
        "id": "fh_BsAmXcLEg",
        "outputId": "554d0c62-7f3c-49f0-e990-bfd931794f5f"
      },
      "execution_count": 32,
      "outputs": [
        {
          "output_type": "execute_result",
          "data": {
            "text/plain": [
              "10.0"
            ]
          },
          "metadata": {},
          "execution_count": 32
        }
      ]
    },
    {
      "cell_type": "code",
      "source": [
        "#예제 12.\n",
        "import time\n",
        "\n",
        "def clock(func):\n",
        "    def clocked(*args):\n",
        "        t0 = time.perf_counter()\n",
        "        result = func(*args)\n",
        "        elapsed = time.perf_counter() - t0\n",
        "        name = func.__name__\n",
        "        arg_str = ', '.join(repr(arg) for arg in args)\n",
        "        print('[%0.8fs] %s(%s) -> %r' % (elapsed, name, arg_str, result))\n",
        "        return result\n",
        "    return clocked"
      ],
      "metadata": {
        "id": "4ACJiU_9cMtY"
      },
      "execution_count": 33,
      "outputs": []
    },
    {
      "cell_type": "code",
      "source": [
        "#예제 13.\n",
        "@clock\n",
        "def snooze(seconds):\n",
        "    time.sleep(seconds)\n",
        "\n",
        "@clock\n",
        "def factorial(n):\n",
        "    return 1 if n<2 else n*factorial(n-1)\n",
        "\n",
        "\n",
        "if __name__ == '__main__':\n",
        "    print('*' * 40, 'Calling snooze(.123)')\n",
        "    snooze(.123)\n",
        "    print('*' * 40, 'Calling factorial(6)')\n",
        "    print('6! =', factorial(6))"
      ],
      "metadata": {
        "colab": {
          "base_uri": "https://localhost:8080/"
        },
        "id": "8eCx-063cUJx",
        "outputId": "0a3187bb-3bac-4b5c-859a-1f856f6a289e"
      },
      "execution_count": 35,
      "outputs": [
        {
          "output_type": "stream",
          "name": "stdout",
          "text": [
            "**************************************** Calling snooze(.123)\n",
            "[0.12323800s] snooze(0.123) -> None\n",
            "**************************************** Calling factorial(6)\n",
            "[0.00000086s] factorial(1) -> 1\n",
            "[0.00005647s] factorial(2) -> 2\n",
            "[0.00008640s] factorial(3) -> 6\n",
            "[0.00011186s] factorial(4) -> 24\n",
            "[0.00013870s] factorial(5) -> 120\n",
            "[0.00016715s] factorial(6) -> 720\n",
            "6! = 720\n"
          ]
        }
      ]
    },
    {
      "cell_type": "code",
      "source": [
        "factorial.__name__"
      ],
      "metadata": {
        "colab": {
          "base_uri": "https://localhost:8080/",
          "height": 36
        },
        "id": "cvxmakR4cYs5",
        "outputId": "e91f73d7-1bce-4fef-e95e-5b7d2c0b602a"
      },
      "execution_count": 36,
      "outputs": [
        {
          "output_type": "execute_result",
          "data": {
            "text/plain": [
              "'clocked'"
            ],
            "application/vnd.google.colaboratory.intrinsic+json": {
              "type": "string"
            }
          },
          "metadata": {},
          "execution_count": 36
        }
      ]
    },
    {
      "cell_type": "code",
      "source": [
        "import time\n",
        "import functools\n",
        "\n",
        "def clock(func):\n",
        "    @functools.wraps(func)\n",
        "    def clocked(*args, **kwargs):\n",
        "        t0 = time.time()\n",
        "        result = func(*args, **kwargs)\n",
        "        elapsed = time.time() - t0\n",
        "        arg_lst = []\n",
        "        name = func.__name__\n",
        "        if args:\n",
        "            arg_lst.append(', '.join(repr(arg) for arg in args))\n",
        "        if kwargs:\n",
        "            pairs = ['%s=%r' % (k, w) for k, w in sorted(kwargs.items())]\n",
        "            arg_lst.append(', '.join(pairs))\n",
        "        arg_str = ', '.join(arg_lst)\n",
        "\n",
        "        print('[%0.8fs] %s(%s) -> %r' % (elapsed, name, arg_str, result))\n",
        "        return result\n",
        "    return clocked\n",
        ""
      ],
      "metadata": {
        "id": "9ah-ces1cenO"
      },
      "execution_count": 37,
      "outputs": []
    },
    {
      "cell_type": "code",
      "source": [
        "#예제 14.\n",
        "\n",
        "@clock\n",
        "def snooze(seconds):\n",
        "    time.sleep(seconds)\n",
        "\n",
        "@clock\n",
        "def factorial(n):\n",
        "    return 1 if n<2 else n*factorial(n-1)\n",
        "\n",
        "if __name__ == '__main__':\n",
        "    print('*' * 40, 'Calling snooze(.123)')\n",
        "    snooze(.123)\n",
        "    print('*' * 40, 'Calling factorial(6)')\n",
        "    print('6! =', factorial(6))"
      ],
      "metadata": {
        "colab": {
          "base_uri": "https://localhost:8080/"
        },
        "id": "w_uus4Tqcpr2",
        "outputId": "5db9c501-3940-4716-ed29-da5975d8200c"
      },
      "execution_count": 38,
      "outputs": [
        {
          "output_type": "stream",
          "name": "stdout",
          "text": [
            "**************************************** Calling snooze(.123)\n",
            "[0.12308073s] snooze(0.123) -> None\n",
            "**************************************** Calling factorial(6)\n",
            "[0.00000072s] factorial(1) -> 1\n",
            "[0.00005841s] factorial(2) -> 2\n",
            "[0.00010180s] factorial(3) -> 6\n",
            "[0.00012827s] factorial(4) -> 24\n",
            "[0.00015306s] factorial(5) -> 120\n",
            "[0.00017905s] factorial(6) -> 720\n",
            "6! = 720\n"
          ]
        }
      ]
    },
    {
      "cell_type": "code",
      "source": [
        "factorial.__name__"
      ],
      "metadata": {
        "colab": {
          "base_uri": "https://localhost:8080/",
          "height": 36
        },
        "id": "zlg0OqIFc31X",
        "outputId": "f7a833b0-ad20-4af7-f3d6-fe7a202cb34f"
      },
      "execution_count": 39,
      "outputs": [
        {
          "output_type": "execute_result",
          "data": {
            "text/plain": [
              "'factorial'"
            ],
            "application/vnd.google.colaboratory.intrinsic+json": {
              "type": "string"
            }
          },
          "metadata": {},
          "execution_count": 39
        }
      ]
    },
    {
      "cell_type": "code",
      "source": [],
      "metadata": {
        "id": "gYjMXXnJc56T"
      },
      "execution_count": null,
      "outputs": []
    }
  ]
}